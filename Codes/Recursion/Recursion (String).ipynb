{
 "cells": [
  {
   "cell_type": "markdown",
   "metadata": {},
   "source": [
    "# String Recursion Examples"
   ]
  },
  {
   "cell_type": "markdown",
   "metadata": {},
   "source": [
    "## 1. Replace all the occurrences of a character by another"
   ]
  },
  {
   "cell_type": "code",
   "execution_count": 1,
   "metadata": {},
   "outputs": [],
   "source": [
    "def replace_all(given_string,char_from,char_to):\n",
    "    if len(given_string)==0:\n",
    "        return given_string\n",
    "    smaller_answer = replace_all(given_string[1:],char_from,char_to)\n",
    "    if given_string[0] == char_from:\n",
    "        return char_to + smaller_answer\n",
    "    return given_string[0] + smaller_answer"
   ]
  },
  {
   "cell_type": "code",
   "execution_count": 2,
   "metadata": {},
   "outputs": [
    {
     "name": "stdout",
     "output_type": "stream",
     "text": [
      "this is a samplx txst casx\n"
     ]
    }
   ],
   "source": [
    "print(replace_all(\"this is a sample test case\",\"e\",\"x\"))"
   ]
  },
  {
   "cell_type": "markdown",
   "metadata": {},
   "source": [
    "## 2. Remove all the occurrences of a character"
   ]
  },
  {
   "cell_type": "code",
   "execution_count": 3,
   "metadata": {},
   "outputs": [],
   "source": [
    "def remove_all(given_string,char_from):\n",
    "    if len(given_string)==0:\n",
    "        return given_string\n",
    "    smaller_answer = remove_all(given_string[1:],char_from)\n",
    "    if given_string[0] == char_from:\n",
    "        return smaller_answer\n",
    "    return given_string[0] + smaller_answer"
   ]
  },
  {
   "cell_type": "code",
   "execution_count": 4,
   "metadata": {},
   "outputs": [
    {
     "name": "stdout",
     "output_type": "stream",
     "text": [
      "this is a sampl tst cas\n"
     ]
    }
   ],
   "source": [
    "print(remove_all(\"this is a sample test case\",\"e\"))"
   ]
  },
  {
   "cell_type": "markdown",
   "metadata": {},
   "source": [
    "## 3. Replace all the pi to 3.14"
   ]
  },
  {
   "cell_type": "code",
   "execution_count": 5,
   "metadata": {},
   "outputs": [],
   "source": [
    "def replace_pi(given_string):\n",
    "    if len(given_string)<2:\n",
    "        return given_string\n",
    "    elif given_string[0]==\"p\" and given_string[1]==\"i\":\n",
    "        return \"3.14\"+replace_pi(given_string[2:])\n",
    "    return given_string[0]+replace_pi(given_string[1:])"
   ]
  },
  {
   "cell_type": "code",
   "execution_count": 6,
   "metadata": {},
   "outputs": [
    {
     "name": "stdout",
     "output_type": "stream",
     "text": [
      "abc3.14def3.143.14p3.14\n"
     ]
    }
   ],
   "source": [
    "print(replace_pi(\"abcpidefpipippi\"))"
   ]
  },
  {
   "cell_type": "markdown",
   "metadata": {},
   "source": [
    "## 4. Remove Duplicates"
   ]
  },
  {
   "cell_type": "code",
   "execution_count": 7,
   "metadata": {},
   "outputs": [],
   "source": [
    "def remove_duplicates(given_string):\n",
    "    if len(given_string)==1:\n",
    "        return given_string\n",
    "    smaller_answer = remove_duplicates(given_string[1:])\n",
    "    if given_string[0]==smaller_answer[0]:\n",
    "        return smaller_answer\n",
    "    return given_string[0] + smaller_answer"
   ]
  },
  {
   "cell_type": "code",
   "execution_count": 8,
   "metadata": {},
   "outputs": [
    {
     "name": "stdout",
     "output_type": "stream",
     "text": [
      "xyzwz\n"
     ]
    }
   ],
   "source": [
    "print(remove_duplicates(\"xxxyyyzwwzzz\"))"
   ]
  }
 ],
 "metadata": {
  "kernelspec": {
   "display_name": "Python 3 (ipykernel)",
   "language": "python",
   "name": "python3"
  },
  "language_info": {
   "codemirror_mode": {
    "name": "ipython",
    "version": 3
   },
   "file_extension": ".py",
   "mimetype": "text/x-python",
   "name": "python",
   "nbconvert_exporter": "python",
   "pygments_lexer": "ipython3",
   "version": "3.11.0"
  }
 },
 "nbformat": 4,
 "nbformat_minor": 1
}
