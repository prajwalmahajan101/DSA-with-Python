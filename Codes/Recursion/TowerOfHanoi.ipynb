{
 "cells": [
  {
   "cell_type": "markdown",
   "metadata": {},
   "source": [
    "# Tower of Hanoi"
   ]
  },
  {
   "cell_type": "markdown",
   "metadata": {},
   "source": [
    "The Game of Tower of Hanoi is that:-\n",
    "We have to move all the disc form source tower to destination tower with the help of a helper tower\n",
    "But we can't put a larger disc at the top of a smaller disc\n",
    "1&emsp;|&emsp;| &emsp;&emsp;&emsp;|&emsp;|&emsp;1\n",
    "2&emsp;|&emsp;|&emsp; to&emsp;|&emsp;|&emsp;2\n",
    "3&emsp;|&emsp;| &emsp;&emsp;&emsp;|&emsp;|&emsp;3\n",
    "4&emsp;|&emsp;| &emsp;&emsp;&emsp;|&emsp;|&emsp;4"
   ]
  },
  {
   "cell_type": "markdown",
   "metadata": {},
   "source": [
    "## Steps to solve the Problem\n",
    "1. To solve this problem we will take a smaller problem that is considering top N-1 disc only\n",
    "2. And move them to helper tower with the help of the destination tower\n",
    "3. Then move the last disc form source to destination\n",
    "4. Then again move the N-1 disc to from helper to destination with the help of source"
   ]
  },
  {
   "cell_type": "markdown",
   "metadata": {},
   "source": [
    "## Code"
   ]
  },
  {
   "cell_type": "code",
   "execution_count": 1,
   "metadata": {},
   "outputs": [],
   "source": [
    "def tower_of_hanoi(num,src,helper,dest):\n",
    "    if num == 1:\n",
    "        print(\"move 1st disk form \"+src+\" to \"+dest)\n",
    "        return\n",
    "    tower_of_hanoi(num-1,src,dest,helper)\n",
    "    print(\"move \"+str(num)+\"th disk from \"+ src+\" to \"+dest)\n",
    "    tower_of_hanoi(num-1,helper,src,dest)\n",
    "    return"
   ]
  },
  {
   "cell_type": "code",
   "execution_count": 2,
   "metadata": {},
   "outputs": [
    {
     "name": "stdout",
     "output_type": "stream",
     "text": [
      "move 1st disk form SRC to DEST\n"
     ]
    }
   ],
   "source": [
    "tower_of_hanoi(1,\"SRC\",\"HLP\",\"DEST\")"
   ]
  },
  {
   "cell_type": "code",
   "execution_count": 3,
   "metadata": {},
   "outputs": [
    {
     "name": "stdout",
     "output_type": "stream",
     "text": [
      "move 1st disk form SRC to HLP\n",
      "move 2th disk fromSRC to DEST\n",
      "move 1st disk form HLP to DEST\n"
     ]
    }
   ],
   "source": [
    "tower_of_hanoi(2,\"SRC\",\"HLP\",\"DEST\")"
   ]
  },
  {
   "cell_type": "code",
   "execution_count": 4,
   "metadata": {},
   "outputs": [
    {
     "name": "stdout",
     "output_type": "stream",
     "text": [
      "move 1st disk form SRC to DEST\n",
      "move 2th disk fromSRC to HLP\n",
      "move 1st disk form DEST to HLP\n",
      "move 3th disk fromSRC to DEST\n",
      "move 1st disk form HLP to SRC\n",
      "move 2th disk fromHLP to DEST\n",
      "move 1st disk form SRC to DEST\n"
     ]
    }
   ],
   "source": [
    "tower_of_hanoi(3,\"SRC\",\"HLP\",\"DEST\")"
   ]
  },
  {
   "cell_type": "code",
   "execution_count": 5,
   "metadata": {},
   "outputs": [
    {
     "name": "stdout",
     "output_type": "stream",
     "text": [
      "move 1st disk form SRC to HLP\n",
      "move 2th disk fromSRC to DEST\n",
      "move 1st disk form HLP to DEST\n",
      "move 3th disk fromSRC to HLP\n",
      "move 1st disk form DEST to SRC\n",
      "move 2th disk fromDEST to HLP\n",
      "move 1st disk form SRC to HLP\n",
      "move 4th disk fromSRC to DEST\n",
      "move 1st disk form HLP to DEST\n",
      "move 2th disk fromHLP to SRC\n",
      "move 1st disk form DEST to SRC\n",
      "move 3th disk fromHLP to DEST\n",
      "move 1st disk form SRC to HLP\n",
      "move 2th disk fromSRC to DEST\n",
      "move 1st disk form HLP to DEST\n"
     ]
    }
   ],
   "source": [
    "tower_of_hanoi(4,\"SRC\",\"HLP\",\"DEST\")"
   ]
  }
 ],
 "metadata": {
  "kernelspec": {
   "display_name": "Python 3 (ipykernel)",
   "language": "python",
   "name": "python3"
  },
  "language_info": {
   "codemirror_mode": {
    "name": "ipython",
    "version": 3
   },
   "file_extension": ".py",
   "mimetype": "text/x-python",
   "name": "python",
   "nbconvert_exporter": "python",
   "pygments_lexer": "ipython3",
   "version": "3.11.0"
  }
 },
 "nbformat": 4,
 "nbformat_minor": 1
}
