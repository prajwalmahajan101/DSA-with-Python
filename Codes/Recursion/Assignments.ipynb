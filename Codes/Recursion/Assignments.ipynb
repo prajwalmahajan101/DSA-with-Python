{
 "cells": [
  {
   "cell_type": "markdown",
   "metadata": {},
   "source": [
    "# Assignment"
   ]
  },
  {
   "cell_type": "markdown",
   "metadata": {},
   "source": [
    "## 1. Geometric sum\n",
    "For a given k find:\n",
    "1+(1/2)+(1/4)+(1/8) ..... (1/2^k)"
   ]
  },
  {
   "cell_type": "code",
   "execution_count": 1,
   "metadata": {},
   "outputs": [],
   "source": [
    "def geo_sum(k,val=1):\n",
    "    if k==0:\n",
    "        return val\n",
    "    return val+geo_sum(k-1,val/2)"
   ]
  },
  {
   "cell_type": "code",
   "execution_count": 2,
   "metadata": {},
   "outputs": [
    {
     "name": "stdout",
     "output_type": "stream",
     "text": [
      "1\n",
      "1.5\n",
      "1.75\n",
      "1.875\n",
      "1.9375\n"
     ]
    }
   ],
   "source": [
    "print(geo_sum(0))\n",
    "print(geo_sum(1))\n",
    "print(geo_sum(2))\n",
    "print(geo_sum(3))\n",
    "print(geo_sum(4))"
   ]
  },
  {
   "cell_type": "markdown",
   "metadata": {},
   "source": [
    "## 2. Check Palindrome\n",
    "Find if the given string is A Palindrome"
   ]
  },
  {
   "cell_type": "code",
   "execution_count": 3,
   "metadata": {},
   "outputs": [],
   "source": [
    "def is_palindrome(s,start,end):\n",
    "    if start>=end:\n",
    "        return True\n",
    "    elif s[start]!=s[end]:\n",
    "        return False\n",
    "    else:\n",
    "        return is_palindrome(s,start+1,end-1)"
   ]
  },
  {
   "cell_type": "code",
   "execution_count": 4,
   "metadata": {},
   "outputs": [
    {
     "name": "stdout",
     "output_type": "stream",
     "text": [
      "True\n",
      "False\n",
      "False\n",
      "True\n"
     ]
    }
   ],
   "source": [
    "print(is_palindrome(\"ASSSA\",0,4))\n",
    "print(is_palindrome(\"Racecar\",0,6))\n",
    "print(is_palindrome(\"test\",0,3))\n",
    "print(is_palindrome(\"bob\",0,2))"
   ]
  },
  {
   "cell_type": "markdown",
   "metadata": {},
   "source": [
    "## 3. Sum of Digit\n",
    "Find the sum of all the Digits of a number"
   ]
  },
  {
   "cell_type": "code",
   "execution_count": 5,
   "metadata": {},
   "outputs": [],
   "source": [
    "def sum_of_digit(num):\n",
    "    if num<9:\n",
    "        return num\n",
    "    return num%10+sum_of_digit(num//10)"
   ]
  },
  {
   "cell_type": "code",
   "execution_count": 6,
   "metadata": {},
   "outputs": [
    {
     "name": "stdout",
     "output_type": "stream",
     "text": [
      "15\n",
      "9\n"
     ]
    }
   ],
   "source": [
    "print(sum_of_digit(12345))\n",
    "print(sum_of_digit(9))"
   ]
  },
  {
   "cell_type": "markdown",
   "metadata": {},
   "source": [
    "## 4. Multiplication\n",
    "Calculate multiplication of two numbers with only allowed operator as addition and subtraction"
   ]
  },
  {
   "cell_type": "code",
   "execution_count": 7,
   "metadata": {},
   "outputs": [],
   "source": [
    "def mu(n,m):\n",
    "    if m>n:\n",
    "        n,m = m,n\n",
    "    if m==0:\n",
    "        return 0\n",
    "    return n+mu(n,m-1)"
   ]
  },
  {
   "cell_type": "code",
   "execution_count": 8,
   "metadata": {},
   "outputs": [
    {
     "name": "stdout",
     "output_type": "stream",
     "text": [
      "0\n",
      "16\n",
      "0\n",
      "30\n"
     ]
    }
   ],
   "source": [
    "print(mu(0,4))\n",
    "print(mu(4,4))\n",
    "print(mu(4,0))\n",
    "print(mu(5,6))"
   ]
  },
  {
   "cell_type": "markdown",
   "metadata": {},
   "source": [
    "## 5. Count Zeros\n",
    "Count the number of zero digits in the number\n",
    "\"0000102405\" ---> 2 only"
   ]
  },
  {
   "cell_type": "code",
   "execution_count": 9,
   "metadata": {},
   "outputs": [],
   "source": [
    "def rec_count_zero(num):\n",
    "    if num==0:\n",
    "        return 0\n",
    "    sub_ans = rec_count_zero(num//10)\n",
    "    if num%10==0:\n",
    "        return 1+ sub_ans\n",
    "    return sub_ans\n"
   ]
  },
  {
   "cell_type": "code",
   "execution_count": 10,
   "metadata": {},
   "outputs": [],
   "source": [
    "def count_zero(s):\n",
    "    n = int(s)\n",
    "    if n==0:\n",
    "        return 1\n",
    "    return rec_count_zero(n)"
   ]
  },
  {
   "cell_type": "code",
   "execution_count": 11,
   "metadata": {},
   "outputs": [
    {
     "name": "stdout",
     "output_type": "stream",
     "text": [
      "1\n",
      "2\n",
      "2\n",
      "4\n"
     ]
    }
   ],
   "source": [
    "print(count_zero(\"0\"))\n",
    "print(count_zero(\"100\"))\n",
    "print(count_zero(\"000010204\"))\n",
    "print(count_zero(\"708000\"))"
   ]
  },
  {
   "cell_type": "markdown",
   "metadata": {},
   "source": [
    "## 6. String to Integer\n",
    "Write a recursive function to convert a given string into the number it represents.\n",
    "That is input will be a numeric string that contains only numbers,\n",
    "you need to convert the string into corresponding integer and return the answer."
   ]
  },
  {
   "cell_type": "code",
   "execution_count": 12,
   "metadata": {},
   "outputs": [],
   "source": [
    "def convert_string_to_int(s):\n",
    "    si = len(s)\n",
    "    if si==1:\n",
    "        return int(s[0])\n",
    "    return (int(s[si-1]))+(convert_string_to_int(s[:-1])*10)"
   ]
  },
  {
   "cell_type": "code",
   "execution_count": 13,
   "metadata": {},
   "outputs": [
    {
     "name": "stdout",
     "output_type": "stream",
     "text": [
      "1023\n"
     ]
    }
   ],
   "source": [
    "print(convert_string_to_int(\"00001023\"))"
   ]
  },
  {
   "cell_type": "markdown",
   "metadata": {},
   "source": [
    "## 7. Pair Star\n",
    "Given a string S, compute recursively a new string where identical chars that are\n",
    "adjacent in the original string are separated from each other by a \"*\"."
   ]
  },
  {
   "cell_type": "code",
   "execution_count": 14,
   "metadata": {},
   "outputs": [],
   "source": [
    "def pair_star(s):\n",
    "    if len(s)<=1:\n",
    "        return s\n",
    "    elif s[0]!=s[1]:\n",
    "        return s[0]+pair_star(s[1:])\n",
    "    return s[0]+\"*\"+pair_star(s[1:])"
   ]
  },
  {
   "cell_type": "code",
   "execution_count": 15,
   "metadata": {},
   "outputs": [
    {
     "name": "stdout",
     "output_type": "stream",
     "text": [
      "hel*lo\n"
     ]
    }
   ],
   "source": [
    "print(pair_star(\"hello\"))"
   ]
  },
  {
   "cell_type": "markdown",
   "metadata": {},
   "source": [
    "## 8. Check AB"
   ]
  },
  {
   "cell_type": "markdown",
   "metadata": {},
   "source": [
    "Suppose you have a string, S, made up of only 'a's and 'b's.\n",
    "Write a recursive function that checks if the string was generated using the following rules:\n",
    "   1. The string begins with an 'a'\n",
    "   2. Each 'a' is followed by nothing or an 'a' or \"bb\"\n",
    "   3. Each \"bb\" is followed by nothing or an 'a'\n",
    "\n",
    "If all the rules are followed by the given string, return true otherwise return false."
   ]
  },
  {
   "cell_type": "code",
   "execution_count": 16,
   "metadata": {},
   "outputs": [],
   "source": [
    "def helper(s):\n",
    "    if len(s)==0:\n",
    "        return True\n",
    "    elif len(s)==1:\n",
    "        return s==\"a\"\n",
    "    elif s[0]=='a':\n",
    "        return helper(s[1:])\n",
    "    elif s[0]==\"b\" and s[0]==\"b\":\n",
    "        return checkAB(s[2:])\n",
    "    return False\n",
    "\n",
    "def checkAB(s):\n",
    "    if len(s)==0:\n",
    "        return True\n",
    "    elif len(s)==1:\n",
    "        return s==\"a\"\n",
    "    elif s[0]!='a':\n",
    "        return False\n",
    "    return helper(s[1:])\n",
    "\n",
    "\n"
   ]
  },
  {
   "cell_type": "code",
   "execution_count": 17,
   "metadata": {},
   "outputs": [
    {
     "name": "stdout",
     "output_type": "stream",
     "text": [
      "True\n",
      "False\n"
     ]
    }
   ],
   "source": [
    "print(checkAB(\"abb\"))\n",
    "print(checkAB(\"abababa\"))"
   ]
  },
  {
   "cell_type": "markdown",
   "metadata": {},
   "source": [
    "## 9. Staircase\n",
    "A child is running up a staircase with N steps, and can hop either 1 step, 2 steps or 3 steps at a time.\n",
    "Implement a method to count how many possible ways the child can run up to the stairs.\n",
    "You need to return number of possible ways W."
   ]
  },
  {
   "cell_type": "code",
   "execution_count": 18,
   "metadata": {},
   "outputs": [],
   "source": [
    "def staircase(n):\n",
    "    if n==1:\n",
    "        return 1\n",
    "    elif n==2:\n",
    "        return 2\n",
    "    elif n==3:\n",
    "        return 4\n",
    "    return staircase(n-1)+staircase(n-2)+staircase(n-3)"
   ]
  },
  {
   "cell_type": "code",
   "execution_count": 19,
   "metadata": {},
   "outputs": [
    {
     "name": "stdout",
     "output_type": "stream",
     "text": [
      "7\n"
     ]
    }
   ],
   "source": [
    "print(staircase(4))"
   ]
  },
  {
   "cell_type": "code",
   "execution_count": 20,
   "metadata": {},
   "outputs": [],
   "source": [
    "def dp_staircase(n):\n",
    "    dp = [1, 2, 4]\n",
    "    k = 3\n",
    "    while k<n:\n",
    "        dp.append(dp[k-1]+dp[k-2]+dp[k-3])\n",
    "        k+=1\n",
    "    return dp[k-1]"
   ]
  },
  {
   "cell_type": "code",
   "execution_count": 21,
   "metadata": {},
   "outputs": [
    {
     "name": "stdout",
     "output_type": "stream",
     "text": [
      "7\n"
     ]
    }
   ],
   "source": [
    "print(dp_staircase(4))"
   ]
  }
 ],
 "metadata": {
  "kernelspec": {
   "display_name": "Python 3 (ipykernel)",
   "language": "python",
   "name": "python3"
  },
  "language_info": {
   "codemirror_mode": {
    "name": "ipython",
    "version": 3
   },
   "file_extension": ".py",
   "mimetype": "text/x-python",
   "name": "python",
   "nbconvert_exporter": "python",
   "pygments_lexer": "ipython3",
   "version": "3.11.0"
  }
 },
 "nbformat": 4,
 "nbformat_minor": 1
}
