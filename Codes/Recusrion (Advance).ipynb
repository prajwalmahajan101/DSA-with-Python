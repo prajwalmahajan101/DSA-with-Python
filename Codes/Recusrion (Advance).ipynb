{
 "cells": [
  {
   "cell_type": "markdown",
   "metadata": {},
   "source": [
    "# Array Algorithm (Recursive)"
   ]
  },
  {
   "cell_type": "markdown",
   "metadata": {},
   "source": [
    "## 1. Binary Search with recursion"
   ]
  },
  {
   "cell_type": "markdown",
   "metadata": {},
   "source": [
    "Binary search works when we have a sorted list, and we are searching for a value.\n",
    "We first look at middle and see if it is the element we are looking for.\n",
    "If it is the problem is solved\n",
    "If it is larger than the target element, then we re-run the search algorithm in the left part\n",
    "If it is smaller than the target element, then we re-run the search algorithm in the right part\n",
    "So the worst case Time complexity is O( n<sup>2</sup> )"
   ]
  },
  {
   "cell_type": "code",
   "execution_count": 1,
   "metadata": {},
   "outputs": [],
   "source": [
    "def rec_binary_search(nums,x,start,end):\n",
    "    if start>end:\n",
    "        return -1\n",
    "    mid = start + (end-start)//2\n",
    "    if nums[mid]==x:\n",
    "        return mid\n",
    "    elif nums[mid]>x:\n",
    "        return rec_binary_search(nums,x,start,mid-1)\n",
    "    return rec_binary_search(nums,x,mid+1,end)"
   ]
  },
  {
   "cell_type": "code",
   "execution_count": 2,
   "metadata": {},
   "outputs": [],
   "source": [
    "def search_fast(nums,x):\n",
    "    return rec_binary_search(nums,x,0,len(nums))"
   ]
  },
  {
   "cell_type": "code",
   "execution_count": 3,
   "metadata": {},
   "outputs": [
    {
     "name": "stdout",
     "output_type": "stream",
     "text": [
      "8\n",
      "-1\n"
     ]
    }
   ],
   "source": [
    "print(search_fast([8,13,19,23,35,45,65,78,89,99],89))\n",
    "print(search_fast([8,13,19,23,35,45,65,78,89,99],12))"
   ]
  },
  {
   "cell_type": "markdown",
   "metadata": {},
   "source": [
    "## 2. Merge Sort"
   ]
  },
  {
   "cell_type": "markdown",
   "metadata": {},
   "source": [
    "Merge Sort is another one of divide-and-conquer algorithms.\n",
    "Here we sort the array by dividing in into two halves,\n",
    "then sort both the halves,\n",
    "and then merge the sorted half togather."
   ]
  },
  {
   "cell_type": "code",
   "execution_count": 4,
   "metadata": {},
   "outputs": [],
   "source": [
    "def merge(left,right,nums):\n",
    "    left.append(float('inf'))\n",
    "    right.append(float('inf'))\n",
    "    i = 0\n",
    "    j = 0\n",
    "    k = 0\n",
    "    while i<len(left)-1 or j<len(right)-1:\n",
    "        if left[i] < right[j]:\n",
    "            nums[k] = left[i]\n",
    "            i+=1\n",
    "        else:\n",
    "            nums[k] = right[j]\n",
    "            j+=1\n",
    "        k+=1\n",
    "    return"
   ]
  },
  {
   "cell_type": "code",
   "execution_count": 5,
   "metadata": {},
   "outputs": [],
   "source": [
    "def merge_sort(nums):\n",
    "    if len(nums)==1 or len(nums)==0:\n",
    "        return nums\n",
    "    mid = len(nums)//2\n",
    "    left = nums[:mid]\n",
    "    right = nums[mid:]\n",
    "    merge(merge_sort(left),merge_sort(right),nums)\n",
    "    return nums"
   ]
  },
  {
   "cell_type": "code",
   "execution_count": 6,
   "metadata": {},
   "outputs": [
    {
     "name": "stdout",
     "output_type": "stream",
     "text": [
      "[9, 11, 17, 18, 23, 23, 39, 54, 67, 98, 100]\n"
     ]
    }
   ],
   "source": [
    "nums_list = [98,18,23,67,23,54,17,11,9,100,39]\n",
    "merge_sort(nums_list)\n",
    "print(nums_list)"
   ]
  },
  {
   "cell_type": "markdown",
   "metadata": {},
   "source": [
    "## 3. Quick Sort"
   ]
  },
  {
   "cell_type": "markdown",
   "metadata": {},
   "source": [
    "Quick Sort is also a divide-and-conquer algorithm\n",
    "We keep an element\n",
    "Take it to its right position\n",
    "make all the tings left to it, smaller than it and right to it, larger than it\n",
    "then re-run the algorithm on that smaller parts"
   ]
  },
  {
   "cell_type": "code",
   "execution_count": 7,
   "metadata": {},
   "outputs": [],
   "source": [
    "def partition(nums,start,end):\n",
    "    p = nums[start]\n",
    "    k = 0\n",
    "    for i in range(start,end):\n",
    "        if nums[i]<p:\n",
    "            k+=1\n",
    "    index = start+k\n",
    "    nums[start],nums[index] = nums[index],nums[start]\n",
    "    i = start\n",
    "    j = end - 1\n",
    "    while i < index < j:\n",
    "        if nums[i]<p:\n",
    "            i+=1\n",
    "        elif nums[j]>p:\n",
    "            j+=1\n",
    "        else:\n",
    "            nums[i],nums[j] = nums[j],nums[i]\n",
    "    return index\n"
   ]
  },
  {
   "cell_type": "code",
   "execution_count": 8,
   "metadata": {},
   "outputs": [],
   "source": [
    "def quick_sort(nums,start,end):\n",
    "    if start>=end:\n",
    "        return\n",
    "    i = partition(nums,start,end)\n",
    "    quick_sort(nums,start,i-1)\n",
    "    quick_sort(nums,i+1,end)"
   ]
  },
  {
   "cell_type": "code",
   "execution_count": 9,
   "metadata": {},
   "outputs": [
    {
     "name": "stdout",
     "output_type": "stream",
     "text": [
      "[9, 11, 18, 23, 23, 39, 17, 54, 67, 98, 100]\n"
     ]
    }
   ],
   "source": [
    "nums_list = [98,18,23,67,23,54,17,11,9,100,39]\n",
    "quick_sort(nums_list,0,len(nums_list))\n",
    "print(nums_list)"
   ]
  }
 ],
 "metadata": {
  "kernelspec": {
   "display_name": "Python 3 (ipykernel)",
   "language": "python",
   "name": "python3"
  },
  "language_info": {
   "codemirror_mode": {
    "name": "ipython",
    "version": 3
   },
   "file_extension": ".py",
   "mimetype": "text/x-python",
   "name": "python",
   "nbconvert_exporter": "python",
   "pygments_lexer": "ipython3",
   "version": "3.11.0"
  }
 },
 "nbformat": 4,
 "nbformat_minor": 1
}
