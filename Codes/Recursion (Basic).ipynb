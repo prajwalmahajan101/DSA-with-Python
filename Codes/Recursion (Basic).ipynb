{
 "cells": [
  {
   "cell_type": "markdown",
   "metadata": {},
   "source": [
    "# Recursion"
   ]
  },
  {
   "cell_type": "markdown",
   "metadata": {},
   "source": [
    "***Recursive function*** is a function which calls itself until some condition is not fulfilled with some input\n",
    "\n",
    "The condition on basis of which function stops calling itself is called **Base Case**\n",
    "\n",
    "*Recursion* is based on the mathematical concept known as **PMI**\n",
    "\n",
    "1. *PMI* is method has 3 steps:\n",
    "    1. prove for trivial input\n",
    "    2. Assume for n\n",
    "    3. prove for n+1\n",
    "\n",
    "2. *Recusrion* is also has three:\n",
    "   1. Trivial Case or Base Case\n",
    "   2. Assume Answer Smaller Solution\n",
    "   3. Calculate the Solution For Larger Input\n"
   ]
  },
  {
   "cell_type": "markdown",
   "metadata": {},
   "source": [
    "## Examples"
   ]
  },
  {
   "cell_type": "markdown",
   "metadata": {},
   "source": [
    "### 1. Factorial"
   ]
  },
  {
   "cell_type": "code",
   "execution_count": 1,
   "metadata": {},
   "outputs": [],
   "source": [
    "def factorial(num):\n",
    "    if num==0 : # Base Case\n",
    "        return 1\n",
    "    smaller_ans = factorial(num - 1) # Smaller Answer\n",
    "    return num * smaller_ans # Calculation For The Larger Answer"
   ]
  },
  {
   "cell_type": "code",
   "execution_count": 2,
   "metadata": {},
   "outputs": [
    {
     "name": "stdout",
     "output_type": "stream",
     "text": [
      "24\n",
      "120\n",
      "720\n",
      "5040\n"
     ]
    }
   ],
   "source": [
    "# n = int(input())\n",
    "n = 4\n",
    "print(factorial(4))\n",
    "print(factorial(5))\n",
    "print(factorial(6))\n",
    "print(factorial(7))"
   ]
  },
  {
   "cell_type": "markdown",
   "metadata": {},
   "source": [
    "### 2. Sum of the n natural numbers"
   ]
  },
  {
   "cell_type": "code",
   "execution_count": 3,
   "metadata": {},
   "outputs": [],
   "source": [
    "def sum_of_n(num):\n",
    "    if num==0:\n",
    "        return 0\n",
    "    smaller_ans = sum_of_n(num - 1)\n",
    "    return num + smaller_ans"
   ]
  },
  {
   "cell_type": "code",
   "execution_count": 4,
   "metadata": {},
   "outputs": [
    {
     "name": "stdout",
     "output_type": "stream",
     "text": [
      "55\n",
      "66\n",
      "78\n",
      "91\n",
      "105\n"
     ]
    }
   ],
   "source": [
    "n = 10  # 10+9+8 ... +2+1 = 55\n",
    "print(sum_of_n(10))\n",
    "print(sum_of_n(11))\n",
    "print(sum_of_n(12))\n",
    "print(sum_of_n(13))\n",
    "print(sum_of_n(14))"
   ]
  },
  {
   "cell_type": "markdown",
   "metadata": {},
   "source": [
    "### 3. Print 1 to n"
   ]
  },
  {
   "cell_type": "code",
   "execution_count": 5,
   "metadata": {},
   "outputs": [],
   "source": [
    "def print_linear(num):\n",
    "    if num==0:\n",
    "        return\n",
    "    print_linear(num-1)\n",
    "    print(num)\n",
    "    return"
   ]
  },
  {
   "cell_type": "code",
   "execution_count": 6,
   "metadata": {},
   "outputs": [
    {
     "name": "stdout",
     "output_type": "stream",
     "text": [
      "1\n",
      "2\n",
      "3\n",
      "4\n",
      "5\n",
      "6\n",
      "7\n",
      "8\n",
      "9\n",
      "10\n",
      "11\n",
      "12\n",
      "13\n",
      "14\n",
      "15\n"
     ]
    }
   ],
   "source": [
    "n = 15\n",
    "print_linear(n)"
   ]
  },
  {
   "cell_type": "markdown",
   "metadata": {},
   "source": [
    "### 4. Print n to 1"
   ]
  },
  {
   "cell_type": "code",
   "execution_count": 7,
   "metadata": {},
   "outputs": [],
   "source": [
    "def print_rev_linear(num):\n",
    "    if num ==0:\n",
    "        return\n",
    "    print(num)\n",
    "    print_rev_linear(num - 1)\n",
    "    return"
   ]
  },
  {
   "cell_type": "code",
   "execution_count": 8,
   "metadata": {},
   "outputs": [
    {
     "name": "stdout",
     "output_type": "stream",
     "text": [
      "10\n",
      "9\n",
      "8\n",
      "7\n",
      "6\n",
      "5\n",
      "4\n",
      "3\n",
      "2\n",
      "1\n"
     ]
    }
   ],
   "source": [
    "n = 10\n",
    "print_rev_linear(n)"
   ]
  },
  {
   "cell_type": "markdown",
   "metadata": {},
   "source": [
    "### 5. Fibbonacci Series\n",
    "1,1,2,3,5,8,........"
   ]
  },
  {
   "cell_type": "code",
   "execution_count": 9,
   "metadata": {},
   "outputs": [],
   "source": [
    "def fibo(num):\n",
    "    if num==0 or num==1:\n",
    "        return 1\n",
    "    return fibo(num-1)+fibo(num-2)"
   ]
  },
  {
   "cell_type": "code",
   "execution_count": 10,
   "metadata": {},
   "outputs": [
    {
     "name": "stdout",
     "output_type": "stream",
     "text": [
      "8\n"
     ]
    }
   ],
   "source": [
    "n = 5\n",
    "print(fibo(n))\n",
    "# 0 1 2 3 4 5\n",
    "# 1 1 2 3 5 8"
   ]
  },
  {
   "cell_type": "markdown",
   "metadata": {},
   "source": [
    "### 6. Is A List Sorted"
   ]
  },
  {
   "cell_type": "code",
   "execution_count": 11,
   "metadata": {},
   "outputs": [],
   "source": [
    "def is_sorted_list(nums,i=0):\n",
    "    if i>=len(nums)-1:\n",
    "        return True\n",
    "    elif nums[i]>nums[i+1]:\n",
    "        return False\n",
    "    return is_sorted_list(nums,i+1)"
   ]
  },
  {
   "cell_type": "code",
   "execution_count": 12,
   "metadata": {},
   "outputs": [
    {
     "name": "stdout",
     "output_type": "stream",
     "text": [
      "True\n",
      "False\n"
     ]
    }
   ],
   "source": [
    "nums_list = [1,2,3,4,6]\n",
    "nums_list2 = [1,2,6,5,4]\n",
    "print(is_sorted_list(nums_list))\n",
    "print(is_sorted_list(nums_list2))"
   ]
  },
  {
   "cell_type": "markdown",
   "metadata": {},
   "source": [
    "### 7. Sum of Array"
   ]
  },
  {
   "cell_type": "code",
   "execution_count": 13,
   "metadata": {},
   "outputs": [],
   "source": [
    "def sum_of_array(nums,i=0):\n",
    "    if i == len(nums):\n",
    "        return 0\n",
    "    return nums[i] + sum_of_array(nums,i+1)"
   ]
  },
  {
   "cell_type": "code",
   "execution_count": 14,
   "metadata": {},
   "outputs": [
    {
     "name": "stdout",
     "output_type": "stream",
     "text": [
      "41\n"
     ]
    }
   ],
   "source": [
    "nums_list = [1,2,3,4,10,6,7,8]\n",
    "print(sum_of_array(nums_list))"
   ]
  },
  {
   "cell_type": "markdown",
   "metadata": {},
   "source": [
    "### 8. First In the Array"
   ]
  },
  {
   "cell_type": "code",
   "execution_count": 15,
   "metadata": {},
   "outputs": [],
   "source": [
    "# Basic function\n",
    "def in_array(nums,target,i=0):\n",
    "    if i == len(nums):\n",
    "        return -1\n",
    "    elif nums[i] == target:\n",
    "        return i\n",
    "    return in_array(nums,target,i+1)"
   ]
  },
  {
   "cell_type": "code",
   "execution_count": 16,
   "metadata": {},
   "outputs": [
    {
     "name": "stdout",
     "output_type": "stream",
     "text": [
      "2\n",
      "-1\n"
     ]
    }
   ],
   "source": [
    "nums_list = [1,2,20,4,5,20]\n",
    "print(in_array(nums_list,20))\n",
    "print(in_array(nums_list,10))"
   ]
  },
  {
   "cell_type": "markdown",
   "metadata": {},
   "source": [
    "### 9.Last in the Array"
   ]
  },
  {
   "cell_type": "code",
   "execution_count": 17,
   "metadata": {},
   "outputs": [],
   "source": [
    "# Basic function \n",
    "def last_array(nums,x,i=0):\n",
    "    index = len(nums)-i-1\n",
    "    if i == len(nums):\n",
    "        return -1\n",
    "    elif nums[index]==x:\n",
    "        return index\n",
    "    return last_array(nums,x,i+1)"
   ]
  },
  {
   "cell_type": "code",
   "execution_count": 18,
   "metadata": {},
   "outputs": [],
   "source": [
    "# from back\n",
    "def last_index_better(nums,x,li):\n",
    "    if li == 0 :\n",
    "        return -1\n",
    "    elif nums[li-1]==x:\n",
    "        return li-1\n",
    "    return last_index_better(nums,x,li-1)"
   ]
  },
  {
   "cell_type": "code",
   "execution_count": 19,
   "metadata": {},
   "outputs": [],
   "source": [
    "# form fornt\n",
    "def last_index(nums,x,si=0):\n",
    "    if si == len(nums):\n",
    "        return -1\n",
    "    smaller_ans = last_index(nums,x,si+1)\n",
    "    if smaller_ans != -1:\n",
    "        return smaller_ans\n",
    "    elif nums[si] == x:\n",
    "        return si\n",
    "    return -1\n"
   ]
  },
  {
   "cell_type": "code",
   "execution_count": 20,
   "metadata": {},
   "outputs": [
    {
     "name": "stdout",
     "output_type": "stream",
     "text": [
      "5\n",
      "5\n",
      "5\n",
      "-1\n",
      "-1\n",
      "-1\n"
     ]
    }
   ],
   "source": [
    "nums_list = [1,2,20,4,5,20]\n",
    "print(last_array(nums_list,20))\n",
    "print(last_index(nums_list,20))\n",
    "print(last_index_better(nums_list,20,len(nums_list)))\n",
    "print(last_array(nums_list,10))\n",
    "print(last_index(nums_list,10))\n",
    "print(last_index_better(nums_list,10,len(nums_list)))"
   ]
  }
 ],
 "metadata": {
  "kernelspec": {
   "display_name": "Python 3 (ipykernel)",
   "language": "python",
   "name": "python3"
  },
  "language_info": {
   "codemirror_mode": {
    "name": "ipython",
    "version": 3
   },
   "file_extension": ".py",
   "mimetype": "text/x-python",
   "name": "python",
   "nbconvert_exporter": "python",
   "pygments_lexer": "ipython3",
   "version": "3.11.0"
  },
  "vscode": {
   "interpreter": {
    "hash": "1f6a27bcfbe46a917dbd192f4a82657396dda26148bae633192e8d28c70725f1"
   }
  }
 },
 "nbformat": 4,
 "nbformat_minor": 1
}
